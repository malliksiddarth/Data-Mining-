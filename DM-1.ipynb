{
 "cells": [
  {
   "cell_type": "code",
   "execution_count": 2,
   "metadata": {},
   "outputs": [],
   "source": [
    "import numpy as np\n",
    "import pandas as pd\n",
    "from sklearn import svm\n",
    "from scipy.io import loadmat"
   ]
  },
  {
   "cell_type": "code",
   "execution_count": 9,
   "metadata": {},
   "outputs": [],
   "source": [
    "x = loadmat(\"/Users/malliksiddarth/Desktop/FSU/Codes/Data Mining /Assignment 4/Data for Assignment 4/Data for Problem 1/X_train.mat\")\n",
    "y = loadmat(\"/Users/malliksiddarth/Desktop/FSU/Codes/Data Mining /Assignment 4/Data for Assignment 4/Data for Problem 1/Y_train.mat\")\n",
    "x1 = loadmat(\"/Users/malliksiddarth/Desktop/FSU/Codes/Data Mining /Assignment 4/Data for Assignment 4/Data for Problem 1/X_test.mat\")\n",
    "y1 = loadmat(\"/Users/malliksiddarth/Desktop/FSU/Codes/Data Mining /Assignment 4/Data for Assignment 4/Data for Problem 1/Y_test.mat\")"
   ]
  },
  {
   "cell_type": "code",
   "execution_count": 10,
   "metadata": {},
   "outputs": [],
   "source": [
    "X_train = pd.DataFrame(x.get(\"X_train\")) #creating dataframe for train dataset \n",
    "Y_train = pd.DataFrame(y.get(\"y_train\"))"
   ]
  },
  {
   "cell_type": "code",
   "execution_count": 11,
   "metadata": {},
   "outputs": [],
   "source": [
    "X_test = pd.DataFrame(x1.get(\"X_test\"))\n",
    "Y_test = pd.DataFrame(y1.get(\"y_test\")) #same above "
   ]
  },
  {
   "cell_type": "code",
   "execution_count": 12,
   "metadata": {},
   "outputs": [],
   "source": [
    "classes = []\n",
    "\n",
    "for i in range(len(Y_train.columns)):\n",
    "    classes.append(svm.SVC(kernel='rbf', degree=3, C=1).fit(X_train,Y_train[i]))  #we are creating svm model  for polynomial kernel"
   ]
  },
  {
   "cell_type": "code",
   "execution_count": 13,
   "metadata": {},
   "outputs": [],
   "source": [
    "Pred = []\n",
    "\n",
    "for i in range(len(Y_train.columns)):\n",
    "    Pred.append(classes[i].predict(X_test))  "
   ]
  },
  {
   "cell_type": "code",
   "execution_count": 14,
   "metadata": {},
   "outputs": [],
   "source": [
    "def hamming_score(y_true, y_pred):\n",
    "    return (\n",
    "        (y_true & y_pred).sum(axis=1) / (y_true | y_pred).sum(axis=1)\n",
    "    ).mean()"
   ]
  },
  {
   "cell_type": "code",
   "execution_count": 15,
   "metadata": {},
   "outputs": [
    {
     "data": {
      "text/plain": [
       "0.6343256155825063"
      ]
     },
     "execution_count": 15,
     "metadata": {},
     "output_type": "execute_result"
    }
   ],
   "source": [
    "hamming_score (Y_test,pd.DataFrame(Pred).transpose())"
   ]
  },
  {
   "cell_type": "code",
   "execution_count": 16,
   "metadata": {},
   "outputs": [],
   "source": [
    "classes = []\n",
    "\n",
    "for i in range(len(Y_train.columns)):\n",
    "    classes.append(svm.SVC(kernel='poly', degree=3, C=1).fit(X_train,Y_train[i]))  #we are creating svm model  for polynomial kernel"
   ]
  },
  {
   "cell_type": "code",
   "execution_count": 17,
   "metadata": {},
   "outputs": [],
   "source": [
    "Pred = []\n",
    "\n",
    "for i in range(len(Y_train.columns)):\n",
    "    Pred.append(classes[i].predict(X_test))  "
   ]
  },
  {
   "cell_type": "code",
   "execution_count": 18,
   "metadata": {},
   "outputs": [],
   "source": [
    "def hamming_score1(y_true, y_pred):\n",
    "    return (\n",
    "        (y_true & y_pred).sum(axis=1) / (y_true | y_pred).sum(axis=1)\n",
    "    ).mean()"
   ]
  },
  {
   "cell_type": "code",
   "execution_count": 19,
   "metadata": {},
   "outputs": [
    {
     "data": {
      "text/plain": [
       "0.6589489158397649"
      ]
     },
     "execution_count": 19,
     "metadata": {},
     "output_type": "execute_result"
    }
   ],
   "source": [
    "hamming_score1 (Y_test,pd.DataFrame(Pred).transpose())"
   ]
  },
  {
   "cell_type": "code",
   "execution_count": null,
   "metadata": {},
   "outputs": [],
   "source": []
  }
 ],
 "metadata": {
  "kernelspec": {
   "display_name": "Python 3",
   "language": "python",
   "name": "python3"
  },
  "language_info": {
   "codemirror_mode": {
    "name": "ipython",
    "version": 3
   },
   "file_extension": ".py",
   "mimetype": "text/x-python",
   "name": "python",
   "nbconvert_exporter": "python",
   "pygments_lexer": "ipython3",
   "version": "3.8.5"
  }
 },
 "nbformat": 4,
 "nbformat_minor": 4
}
